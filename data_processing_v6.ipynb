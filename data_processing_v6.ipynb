{
 "cells": [
  {
   "cell_type": "code",
   "execution_count": 1,
   "id": "0bb1e118",
   "metadata": {},
   "outputs": [],
   "source": [
    "import pandas as pd\n",
    "import json\n",
    "import numpy as np\n",
    "from tqdm.auto import tqdm\n",
    "import pickle5\n",
    "import ast\n",
    "from copy import deepcopy"
   ]
  },
  {
   "cell_type": "code",
   "execution_count": 2,
   "id": "306d65af",
   "metadata": {},
   "outputs": [],
   "source": [
    "global input_dir\n",
    "input_dir = './input_data/'"
   ]
  },
  {
   "cell_type": "code",
   "execution_count": 3,
   "id": "c50e1519",
   "metadata": {},
   "outputs": [],
   "source": [
    "project_entity_data = pd.read_csv(input_dir + 'project_entity.csv', lineterminator='\\n', header = None)\n",
    "project_entity_data.columns = ['pid', 'title', 'alt_title', 'criteria', 'description', 'alt_desc', 'pqs']"
   ]
  },
  {
   "cell_type": "code",
   "execution_count": 4,
   "id": "ca3e3609",
   "metadata": {},
   "outputs": [],
   "source": [
    "import pickle\n",
    "with open('./evaluation/test_label.pkl', 'rb') as f:\n",
    "    test_label = pickle.load(f)\n",
    "test_project = list(test_label.keys())   "
   ]
  },
  {
   "cell_type": "code",
   "execution_count": 5,
   "id": "1f7c6d4b",
   "metadata": {},
   "outputs": [],
   "source": [
    "from nltk import ngrams, word_tokenize, sent_tokenize\n",
    "from nltk.stem.porter import *\n",
    "from bs4 import BeautifulSoup\n",
    "import re\n",
    "import spacy\n",
    "\n",
    "nlp = spacy.blank(\"en\")\n",
    "\n",
    "def clean_text(tmp):\n",
    "    soup = BeautifulSoup(tmp)\n",
    "    text = soup.get_text(separator=\" \").strip()\n",
    "    text = re.sub(r'\\n\\s*\\n', '\\n', text)\n",
    "    text = re.sub(r'\\t\\s*\\t', ' ', text)\n",
    "    text = re.sub(r'\\xa0', ' ', text)\n",
    "#     text = nlp(text)\n",
    "    return text"
   ]
  },
  {
   "cell_type": "code",
   "execution_count": 6,
   "id": "6bec9b6c",
   "metadata": {},
   "outputs": [
    {
     "data": {
      "application/vnd.jupyter.widget-view+json": {
       "model_id": "82aee6799d404ac4ab9408f19d9ed160",
       "version_major": 2,
       "version_minor": 0
      },
      "text/plain": [
       "  0%|          | 0/715500 [00:00<?, ?it/s]"
      ]
     },
     "metadata": {},
     "output_type": "display_data"
    }
   ],
   "source": [
    "filters = ['other', 'none', 'allow', 'to discuss', '?']\n",
    "\n",
    "entity_labels = []\n",
    "for i in tqdm(range(len(project_entity_data))):\n",
    "    pq = project_entity_data.iloc[i, 6]\n",
    "    label = []\n",
    "    if pq != pq:\n",
    "        pass\n",
    "    else:\n",
    "        pq = json.loads(project_entity_data.iloc[i, 6])\n",
    "        for x in pq:\n",
    "            tmp = x.get('definition')\n",
    "            if tmp is not None:\n",
    "                tmp = json.loads(tmp)\n",
    "                if \"columnHeaders\" in list(tmp.keys()):\n",
    "                    label += tmp['rowHeaders']\n",
    "    label = np.unique([x for x in label if all([s not in x.lower() for s in filters])&(len(x) > 1)]).tolist()\n",
    "    entity_labels.append(label)\n",
    "project_entity_data['entity'] = entity_labels\n",
    "project_entity_data['n_ent'] = [len(x) for x in entity_labels]"
   ]
  },
  {
   "cell_type": "code",
   "execution_count": 7,
   "id": "d8d49e58",
   "metadata": {
    "scrolled": true
   },
   "outputs": [
    {
     "data": {
      "application/vnd.jupyter.widget-view+json": {
       "model_id": "1e2c4592dc054a61bea4831490b71d7f",
       "version_major": 2,
       "version_minor": 0
      },
      "text/plain": [
       "  0%|          | 0/104059 [00:00<?, ?it/s]"
      ]
     },
     "metadata": {},
     "output_type": "display_data"
    },
    {
     "name": "stderr",
     "output_type": "stream",
     "text": [
      "/home/tracy/miniconda3/envs/tf2/lib/python3.8/site-packages/bs4/__init__.py:337: MarkupResemblesLocatorWarning: \".\" looks like a directory name, not markup. You may want to open a file found in this directory and pass the filehandle into Beautiful Soup.\n",
      "  warnings.warn(\n",
      "/home/tracy/miniconda3/envs/tf2/lib/python3.8/site-packages/bs4/__init__.py:337: MarkupResemblesLocatorWarning: \"/\" looks like a directory name, not markup. You may want to open a file found in this directory and pass the filehandle into Beautiful Soup.\n",
      "  warnings.warn(\n",
      "/home/tracy/miniconda3/envs/tf2/lib/python3.8/site-packages/bs4/__init__.py:337: MarkupResemblesLocatorWarning: \"//\" looks like a directory name, not markup. You may want to open a file found in this directory and pass the filehandle into Beautiful Soup.\n",
      "  warnings.warn(\n",
      "/home/tracy/miniconda3/envs/tf2/lib/python3.8/site-packages/bs4/__init__.py:431: MarkupResemblesLocatorWarning: \"https://getfabric.com/\" looks like a URL. Beautiful Soup is not an HTTP client. You should probably use an HTTP client like requests to get the document behind the URL, and feed that document to Beautiful Soup.\n",
      "  warnings.warn(\n",
      "/home/tracy/miniconda3/envs/tf2/lib/python3.8/site-packages/bs4/__init__.py:431: MarkupResemblesLocatorWarning: \"https://www.trmlabs.com/\" looks like a URL. Beautiful Soup is not an HTTP client. You should probably use an HTTP client like requests to get the document behind the URL, and feed that document to Beautiful Soup.\n",
      "  warnings.warn(\n",
      "/home/tracy/miniconda3/envs/tf2/lib/python3.8/site-packages/bs4/__init__.py:431: MarkupResemblesLocatorWarning: \"https://services.glgresearch.com/streamliner/#/consultation/3436103\" looks like a URL. Beautiful Soup is not an HTTP client. You should probably use an HTTP client like requests to get the document behind the URL, and feed that document to Beautiful Soup.\n",
      "  warnings.warn(\n",
      "/home/tracy/miniconda3/envs/tf2/lib/python3.8/site-packages/bs4/__init__.py:431: MarkupResemblesLocatorWarning: \"https://www.tradeswell.com/customer-stories/&nbsp;\" looks like a URL. Beautiful Soup is not an HTTP client. You should probably use an HTTP client like requests to get the document behind the URL, and feed that document to Beautiful Soup.\n",
      "  warnings.warn(\n",
      "/home/tracy/miniconda3/envs/tf2/lib/python3.8/site-packages/bs4/__init__.py:431: MarkupResemblesLocatorWarning: \"https://payretailers.com/en/products-payment-services/&nbsp;&nbsp;\" looks like a URL. Beautiful Soup is not an HTTP client. You should probably use an HTTP client like requests to get the document behind the URL, and feed that document to Beautiful Soup.\n",
      "  warnings.warn(\n",
      "/home/tracy/miniconda3/envs/tf2/lib/python3.8/site-packages/bs4/__init__.py:431: MarkupResemblesLocatorWarning: \"https://www.newsweek.com/americas-best-banks-2021/best-small-banks-state\" looks like a URL. Beautiful Soup is not an HTTP client. You should probably use an HTTP client like requests to get the document behind the URL, and feed that document to Beautiful Soup.\n",
      "  warnings.warn(\n",
      "/home/tracy/miniconda3/envs/tf2/lib/python3.8/site-packages/bs4/__init__.py:431: MarkupResemblesLocatorWarning: \"https://www.fico.com/en/customers\" looks like a URL. Beautiful Soup is not an HTTP client. You should probably use an HTTP client like requests to get the document behind the URL, and feed that document to Beautiful Soup.\n",
      "  warnings.warn(\n",
      "/home/tracy/miniconda3/envs/tf2/lib/python3.8/site-packages/bs4/__init__.py:431: MarkupResemblesLocatorWarning: \"https://www.pacteraedge.com/about-us\" looks like a URL. Beautiful Soup is not an HTTP client. You should probably use an HTTP client like requests to get the document behind the URL, and feed that document to Beautiful Soup.\n",
      "  warnings.warn(\n",
      "/home/tracy/miniconda3/envs/tf2/lib/python3.8/site-packages/bs4/__init__.py:431: MarkupResemblesLocatorWarning: \"https://www.innominds.com/about\" looks like a URL. Beautiful Soup is not an HTTP client. You should probably use an HTTP client like requests to get the document behind the URL, and feed that document to Beautiful Soup.\n",
      "  warnings.warn(\n",
      "/home/tracy/miniconda3/envs/tf2/lib/python3.8/site-packages/bs4/__init__.py:431: MarkupResemblesLocatorWarning: \"https://www.devbridge.com/\" looks like a URL. Beautiful Soup is not an HTTP client. You should probably use an HTTP client like requests to get the document behind the URL, and feed that document to Beautiful Soup.\n",
      "  warnings.warn(\n",
      "/home/tracy/miniconda3/envs/tf2/lib/python3.8/site-packages/bs4/__init__.py:337: MarkupResemblesLocatorWarning: \"..\" looks like a directory name, not markup. You may want to open a file found in this directory and pass the filehandle into Beautiful Soup.\n",
      "  warnings.warn(\n",
      "/home/tracy/miniconda3/envs/tf2/lib/python3.8/site-packages/bs4/__init__.py:431: MarkupResemblesLocatorWarning: \"https://www.fireeye.com/customers.html\" looks like a URL. Beautiful Soup is not an HTTP client. You should probably use an HTTP client like requests to get the document behind the URL, and feed that document to Beautiful Soup.\n",
      "  warnings.warn(\n",
      "/home/tracy/miniconda3/envs/tf2/lib/python3.8/site-packages/bs4/__init__.py:431: MarkupResemblesLocatorWarning: \"https://www.headspin.io/customers/\" looks like a URL. Beautiful Soup is not an HTTP client. You should probably use an HTTP client like requests to get the document behind the URL, and feed that document to Beautiful Soup.\n",
      "  warnings.warn(\n",
      "/home/tracy/miniconda3/envs/tf2/lib/python3.8/site-packages/bs4/__init__.py:431: MarkupResemblesLocatorWarning: \"https://www.citrix.com/buy/partnerlocator/results.html?location=10003\" looks like a URL. Beautiful Soup is not an HTTP client. You should probably use an HTTP client like requests to get the document behind the URL, and feed that document to Beautiful Soup.\n",
      "  warnings.warn(\n",
      "/home/tracy/miniconda3/envs/tf2/lib/python3.8/site-packages/bs4/__init__.py:431: MarkupResemblesLocatorWarning: \"https://asana.com/partners\" looks like a URL. Beautiful Soup is not an HTTP client. You should probably use an HTTP client like requests to get the document behind the URL, and feed that document to Beautiful Soup.\n",
      "  warnings.warn(\n",
      "/home/tracy/miniconda3/envs/tf2/lib/python3.8/site-packages/bs4/__init__.py:431: MarkupResemblesLocatorWarning: \"https://www.elastic.co/customers/\" looks like a URL. Beautiful Soup is not an HTTP client. You should probably use an HTTP client like requests to get the document behind the URL, and feed that document to Beautiful Soup.\n",
      "  warnings.warn(\n",
      "/home/tracy/miniconda3/envs/tf2/lib/python3.8/site-packages/bs4/__init__.py:431: MarkupResemblesLocatorWarning: \"https://www.confluent.io/customers/\" looks like a URL. Beautiful Soup is not an HTTP client. You should probably use an HTTP client like requests to get the document behind the URL, and feed that document to Beautiful Soup.\n",
      "  warnings.warn(\n"
     ]
    }
   ],
   "source": [
    "project_labels = project_entity_data[project_entity_data.n_ent != 0]\n",
    "project_labels = project_labels.iloc[:, [0,1,3,4,7]]\n",
    "project_labels = project_labels.reset_index(drop = True)\n",
    "\n",
    "remove_string = \"PLEASE NOTE THAT THE CLIENT INTENDS TO RECORD THIS PHONE CALL. BY ACCEPTING THIS PROJECT, YOU AGREE TO BE RECORDED.\"\n",
    "remove_pattern = [#re.compile(r\"PLEASE NOTE:(.*)[<.*>$]\"), \n",
    "                  re.compile(r\"PLEASE NOTE:(.*)decline the project.\", re.IGNORECASE),\n",
    "                  re.compile(r\"PLEASE NOTE:(.*)Physician Payment Sunshine Act.\", re.IGNORECASE),\n",
    "                  #re.compile(r\"PLEASE NOTE:(.*)your current employer.\", re.IGNORECASE), \n",
    "                  re.compile(r\"PLEASE NOTE:(.*)selected for a consultation.\", re.IGNORECASE), \n",
    "                  re.compile(r\"glg ((network)*|(council)*) members are not permitted(.*)third parties.\", re.IGNORECASE),\n",
    "                  re.compile(remove_string, re.IGNORECASE),\n",
    "                  re.compile(r\"Typically, GLG clients are identified by name so that you can determine(.*)[\\n|<.*>]\", re.IGNORECASE)]\n",
    "\n",
    "cleaned_description = []\n",
    "cleaned_criteria = []\n",
    "for i in tqdm(range(len(project_labels))):\n",
    "    tmp = project_labels.iloc[i]\n",
    "    \n",
    "    d = tmp.description if tmp.description == tmp.description else ''\n",
    "    c = tmp.criteria if tmp.criteria == tmp.criteria else ''  \n",
    "    \n",
    "    for pattern in remove_pattern:\n",
    "        d = re.sub(pattern, \"\", d)\n",
    "        c = re.sub(pattern, \"\", c)\n",
    "    \n",
    "    d = clean_text(d)\n",
    "    c = clean_text(c)\n",
    "    \n",
    "    cleaned_description.append(d)\n",
    "    cleaned_criteria.append(c)\n",
    "\n",
    "project_labels['cleaned_criteria'] = cleaned_criteria\n",
    "project_labels['cleaned_description'] = cleaned_description"
   ]
  },
  {
   "cell_type": "code",
   "execution_count": 8,
   "id": "cdb93d02",
   "metadata": {
    "scrolled": true
   },
   "outputs": [
    {
     "data": {
      "application/vnd.jupyter.widget-view+json": {
       "model_id": "6a772c0d891d4ab2b70abb3334cc9602",
       "version_major": 2,
       "version_minor": 0
      },
      "text/plain": [
       "  0%|          | 0/104059 [00:00<?, ?it/s]"
      ]
     },
     "metadata": {},
     "output_type": "display_data"
    },
    {
     "name": "stderr",
     "output_type": "stream",
     "text": [
      "<ipython-input-8-682f8a33cf4e>:8: UserWarning: Boolean Series key will be reindexed to match DataFrame index.\n",
      "  label = label[~label.sort_values([3]).duplicated(subset = [1,2], keep = 'last')]\n"
     ]
    }
   ],
   "source": [
    "from spaczz.matcher import FuzzyMatcher\n",
    "\n",
    "data_criteria = {}\n",
    "data_description = {}\n",
    "\n",
    "def handle_label(label):\n",
    "    label = pd.DataFrame(label)\n",
    "    label = label[~label.sort_values([3]).duplicated(subset = [1,2], keep = 'last')]\n",
    "    label = label.values.tolist()\n",
    "    label = [x for x in label if (x[-1] > 0.9)]\n",
    "    return label\n",
    "    \n",
    "for i in tqdm(range(len(project_labels))):\n",
    "    tmp = project_labels.iloc[i]\n",
    "    matcher = FuzzyMatcher(nlp.vocab)\n",
    "    for phrase in tmp.entity:\n",
    "        matcher.add(phrase, [nlp(phrase)])\n",
    "\n",
    "    text = nlp(clean_text(tmp.criteria if tmp.criteria == tmp.criteria else ''))\n",
    "    matches = matcher(text)\n",
    "    token = [str(x) for x in text]\n",
    "    label = [[x[0], x[1], x[2], x[3]/100] for x in matches]\n",
    "    if len(label) > 0:\n",
    "        label = handle_label(label)\n",
    "    data_criteria[tmp.pid] = [token, label]\n",
    "\n",
    "    text = nlp(clean_text(tmp.description if tmp.description == tmp.description else ''))\n",
    "    matches = matcher(text)\n",
    "    token = [str(x) for x in text]\n",
    "    label = [[x[0], x[1], x[2], x[3]/100] for x in matches]\n",
    "    if len(label) > 0:\n",
    "        label = handle_label(label)\n",
    "    data_description[tmp.pid] = [token, label]"
   ]
  },
  {
   "cell_type": "code",
   "execution_count": 9,
   "id": "8a9f042a",
   "metadata": {},
   "outputs": [
    {
     "data": {
      "application/vnd.jupyter.widget-view+json": {
       "model_id": "b72c8cbe556843a0a1c6b871f83f8a2a",
       "version_major": 2,
       "version_minor": 0
      },
      "text/plain": [
       "  0%|          | 0/104059 [00:00<?, ?it/s]"
      ]
     },
     "metadata": {},
     "output_type": "display_data"
    }
   ],
   "source": [
    "bad_pid = []\n",
    "for k, v in tqdm(data_description.items()):\n",
    "    label = v[-1] + data_criteria[k][-1]\n",
    "    \n",
    "    if k not in test_project:\n",
    "        if len(label) == 0:\n",
    "            bad_pid.append(k)\n",
    "        else:\n",
    "            if np.mean([len(x[0]) > 50 for x in label]) > 0.5:\n",
    "                bad_pid.append(k)"
   ]
  },
  {
   "cell_type": "code",
   "execution_count": 10,
   "id": "038fa60d",
   "metadata": {},
   "outputs": [
    {
     "data": {
      "application/vnd.jupyter.widget-view+json": {
       "model_id": "a1360c1bc0a4469d878115d8b9a3fd77",
       "version_major": 2,
       "version_minor": 0
      },
      "text/plain": [
       "  0%|          | 0/104059 [00:00<?, ?it/s]"
      ]
     },
     "metadata": {},
     "output_type": "display_data"
    },
    {
     "data": {
      "application/vnd.jupyter.widget-view+json": {
       "model_id": "67fd23004c1a467aaad0484670f4d8eb",
       "version_major": 2,
       "version_minor": 0
      },
      "text/plain": [
       "  0%|          | 0/104059 [00:00<?, ?it/s]"
      ]
     },
     "metadata": {},
     "output_type": "display_data"
    }
   ],
   "source": [
    "output_description = deepcopy(data_description)\n",
    "for k in tqdm(list(data_description.keys())):\n",
    "    if k in bad_pid:\n",
    "        output_description.pop(k)\n",
    "\n",
    "output_criteria = deepcopy(data_criteria)\n",
    "for k in tqdm(list(data_criteria.keys())):\n",
    "    if k in bad_pid:\n",
    "        output_criteria.pop(k)"
   ]
  },
  {
   "cell_type": "code",
   "execution_count": 11,
   "id": "e40332cf",
   "metadata": {},
   "outputs": [],
   "source": [
    "with open('./input_data/data_criteria_v6.pk5', 'wb') as f:\n",
    "    pickle5.dump(output_criteria, f)\n",
    "with open('./input_data/data_description_v6.pk5', 'wb') as f:\n",
    "    pickle5.dump(output_description, f)"
   ]
  }
 ],
 "metadata": {
  "kernelspec": {
   "display_name": "Python 3",
   "language": "python",
   "name": "python3"
  },
  "language_info": {
   "codemirror_mode": {
    "name": "ipython",
    "version": 3
   },
   "file_extension": ".py",
   "mimetype": "text/x-python",
   "name": "python",
   "nbconvert_exporter": "python",
   "pygments_lexer": "ipython3",
   "version": "3.8.10"
  }
 },
 "nbformat": 4,
 "nbformat_minor": 5
}
