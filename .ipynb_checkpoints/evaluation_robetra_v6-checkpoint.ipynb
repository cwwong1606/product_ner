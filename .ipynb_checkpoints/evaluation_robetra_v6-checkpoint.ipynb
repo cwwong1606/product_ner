{
 "cells": [
  {
   "cell_type": "code",
   "execution_count": 1,
   "id": "87f0398e",
   "metadata": {},
   "outputs": [],
   "source": [
    "import pickle\n",
    "\n",
    "global eval_label\n",
    "with open('./test_label.pkl', 'rb') as f:\n",
    "    eval_label = pickle.load(f)"
   ]
  },
  {
   "cell_type": "code",
   "execution_count": 2,
   "id": "0854d7eb",
   "metadata": {},
   "outputs": [
    {
     "name": "stderr",
     "output_type": "stream",
     "text": [
      "Some weights of the model checkpoint at roberta-large were not used when initializing RobertaModel: ['lm_head.decoder.weight', 'lm_head.layer_norm.weight', 'lm_head.dense.weight', 'lm_head.bias', 'lm_head.layer_norm.bias', 'lm_head.dense.bias']\n",
      "- This IS expected if you are initializing RobertaModel from the checkpoint of a model trained on another task or with another architecture (e.g. initializing a BertForSequenceClassification model from a BertForPreTraining model).\n",
      "- This IS NOT expected if you are initializing RobertaModel from the checkpoint of a model that you expect to be exactly identical (initializing a BertForSequenceClassification model from a BertForSequenceClassification model).\n",
      "Some weights of the model checkpoint at roberta-large were not used when initializing RobertaModel: ['lm_head.decoder.weight', 'lm_head.layer_norm.weight', 'lm_head.dense.weight', 'lm_head.bias', 'lm_head.layer_norm.bias', 'lm_head.dense.bias']\n",
      "- This IS expected if you are initializing RobertaModel from the checkpoint of a model trained on another task or with another architecture (e.g. initializing a BertForSequenceClassification model from a BertForPreTraining model).\n",
      "- This IS NOT expected if you are initializing RobertaModel from the checkpoint of a model that you expect to be exactly identical (initializing a BertForSequenceClassification model from a BertForSequenceClassification model).\n",
      "Some weights of the model checkpoint at roberta-large were not used when initializing RobertaModel: ['lm_head.decoder.weight', 'lm_head.layer_norm.weight', 'lm_head.dense.weight', 'lm_head.bias', 'lm_head.layer_norm.bias', 'lm_head.dense.bias']\n",
      "- This IS expected if you are initializing RobertaModel from the checkpoint of a model trained on another task or with another architecture (e.g. initializing a BertForSequenceClassification model from a BertForPreTraining model).\n",
      "- This IS NOT expected if you are initializing RobertaModel from the checkpoint of a model that you expect to be exactly identical (initializing a BertForSequenceClassification model from a BertForSequenceClassification model).\n"
     ]
    },
    {
     "data": {
      "application/vnd.jupyter.widget-view+json": {
       "model_id": "beafaccb37154865ad8ae11ab2f457e0",
       "version_major": 2,
       "version_minor": 0
      },
      "text/plain": [
       "  0%|          | 0/7652 [00:00<?, ?it/s]"
      ]
     },
     "metadata": {},
     "output_type": "display_data"
    },
    {
     "name": "stdout",
     "output_type": "stream",
     "text": [
      "7652 7652\n",
      "All predicted: 1.0\n"
     ]
    }
   ],
   "source": [
    "from inference_roberta_v6 import *\n",
    "tmp_preds = inference([0.20907902353747032, 0.15113470895883632], eval_label)\n",
    "print(len(tmp_preds), len(eval_label))\n",
    "print(f'All predicted: {np.isin(tmp_preds.keys(), eval_label.keys()).mean()}')\n",
    "\n",
    "predictions = {}\n",
    "for k,v in eval_label.items():\n",
    "    predictions[k] = tmp_preds[k]"
   ]
  },
  {
   "cell_type": "code",
   "execution_count": 3,
   "id": "ddd80663",
   "metadata": {},
   "outputs": [],
   "source": [
    "from nltk.stem.porter import *\n",
    "from rouge import Rouge \n",
    "from tqdm.auto import tqdm\n",
    "import numpy as np\n",
    "\n",
    "problem_pid = [3511353, 3315219, 3611751, 3219211, 3352309, 3223953,\n",
    "               3519874, 3357186, 3588814, 3328210, 3076965]\n",
    "\n",
    "rouge = Rouge()\n",
    "stemmer = PorterStemmer()\n",
    "\n",
    "def eval_score(reference, hypothesis):\n",
    "\n",
    "    stem_h = [' '.join([stemmer.stem(re.sub(r'[^\\w\\s]',' ',y)) for y in x.split()]) for x in hypothesis]\n",
    "    stem_h = list(set(stem_h))\n",
    "    stem_r = [' '.join([stemmer.stem(re.sub(r'[^\\w\\s]',' ',y)) for y in x.split()]) for x in reference]\n",
    "    \n",
    "    recall = []\n",
    "    precision = []\n",
    "    \n",
    "    for h in stem_h:\n",
    "        precision.append(max([rouge.get_scores(h, r)[0]['rouge-l']['p'] for r in stem_r]))\n",
    "        \n",
    "    for r in stem_r:\n",
    "        if len(stem_h) > 0:\n",
    "            recall.append(max([rouge.get_scores(h, r)[0]['rouge-l']['r'] for h in stem_h]))\n",
    "        else:\n",
    "            recall.append(0)\n",
    "            \n",
    "    recall = sum(recall)/len(reference)\n",
    "    precision = sum(precision)/(len(hypothesis) if len(hypothesis) > 0 else 1e-8)\n",
    "            \n",
    "    return recall, precision\n",
    "\n",
    "def run_eval(predictions):\n",
    "    scores = []\n",
    "    for k,v in tqdm(eval_label.items()):\n",
    "        \n",
    "        if k in problem_pid:\n",
    "            continue\n",
    "        \n",
    "        p = predictions.get(k)\n",
    "\n",
    "        if p is not None:\n",
    "            recall, precision = eval_score(v, p)\n",
    "        else:\n",
    "            recall, precision = 0, 0\n",
    "        scores.append([recall, precision])\n",
    "        \n",
    "    scores = np.mean(np.array(scores), 0).tolist()\n",
    "    return {'Recall': scores[0], 'Precision': scores[1]}"
   ]
  },
  {
   "cell_type": "code",
   "execution_count": 4,
   "id": "e2afa8b9",
   "metadata": {},
   "outputs": [
    {
     "data": {
      "application/vnd.jupyter.widget-view+json": {
       "model_id": "2bdd8c1201ec477eba2c697fb72ac76d",
       "version_major": 2,
       "version_minor": 0
      },
      "text/plain": [
       "  0%|          | 0/7652 [00:00<?, ?it/s]"
      ]
     },
     "metadata": {},
     "output_type": "display_data"
    },
    {
     "name": "stdout",
     "output_type": "stream",
     "text": [
      "{'Recall': 0.8771889869764969, 'Precision': 0.7894659451981241, 'F1': 0.8310188502153947}\n"
     ]
    }
   ],
   "source": [
    "results = run_eval(predictions)\n",
    "results['F1'] = (2*results['Recall']*results['Precision'])/(results['Recall'] + results['Precision'])\n",
    "print(results)"
   ]
  },
  {
   "cell_type": "code",
   "execution_count": 5,
   "id": "57247cba",
   "metadata": {
    "scrolled": false
   },
   "outputs": [
    {
     "name": "stdout",
     "output_type": "stream",
     "text": [
      "3505823\n",
      "Ground Truth: ['FIVN']\n",
      "Extraction: ['FIVN']\n",
      "Recall: 1.0; Precision: 1.0\n",
      "-----------------------------------------\n",
      "3392712\n",
      "Ground Truth: ['Elastron', 'Exxon Mobil', 'Kumho Polychem', 'Riken', 'Teknor Apex']\n",
      "Extraction: ['Elastron', 'Kumho Polychem', 'Ravago', 'Riken', 'SO.F.TER Group', 'Santoprene', 'Teknor Apex']\n",
      "Recall: 0.8; Precision: 0.5714285714285714\n",
      "-----------------------------------------\n",
      "3669133\n",
      "Ground Truth: ['1stDibs', 'ByteDance', 'Cameo', 'Canva', 'Care.com', 'Depop', 'Etsy', 'Grailed', 'Havenly', 'Instacart', 'Instagram', 'Kickstarter', 'Minted', 'Patreon', 'Roblox', 'Service Titan', 'Snap', 'StockX', 'StyleSeat', 'Substack', 'TikTok', 'Toptal', 'Upwork']\n",
      "Extraction: ['Cameo', 'Canva', 'Depop', 'Etsy', 'Grailed', 'Instacart', 'Kickstarter', 'Patreon', 'Service Titan', 'Snap', 'StockX', 'Substack', 'Upwork']\n",
      "Recall: 0.5652173913043478; Precision: 1.0\n",
      "-----------------------------------------\n",
      "3625477\n",
      "Ground Truth: ['AdvancedMD', 'InSync', 'Net Health', 'NetSmart', 'Therapy Brands', 'Valant', 'WellSky']\n",
      "Extraction: ['AdvancedMD', 'Insync', 'Net Health', 'Netsmart', 'Therapy Brands', 'Valant', 'WellSky']\n",
      "Recall: 1.0; Precision: 1.0\n",
      "-----------------------------------------\n",
      "3180651\n",
      "Ground Truth: ['Arctic Wolf', 'Expel.io', 'Red Canary']\n",
      "Extraction: ['Arctic Wolf', 'Expel', 'Expel.io', 'Red Canary']\n",
      "Recall: 1.0; Precision: 1.0\n",
      "-----------------------------------------\n",
      "3728418\n",
      "Ground Truth: ['ADP', 'Ceridian', 'Lawson', 'Peoplesoft', 'SAP', 'Workday']\n",
      "Extraction: ['ADP', 'Workday']\n",
      "Recall: 0.3333333333333333; Precision: 1.0\n",
      "-----------------------------------------\n",
      "3552995\n",
      "Ground Truth: ['Ikon Science']\n",
      "Extraction: ['Ikon Science']\n",
      "Recall: 1.0; Precision: 1.0\n",
      "-----------------------------------------\n",
      "3507960\n",
      "Ground Truth: ['De Ree', 'Franchi', 'G Plants', 'Kings', \"Mr Fothergill's Seeds\", 'Suttons', 'T&M', 'Unwins']\n",
      "Extraction: ['G Plants', 'Kings De Ree', 'Legutko', \"Mr Fothergill's Seeds\", 'Suttons', 'T&M', 'Unwins']\n",
      "Recall: 0.875; Precision: 0.8095238095238095\n",
      "-----------------------------------------\n",
      "3464023\n",
      "Ground Truth: [\"BMS'/Blue Bird's Abecma (idecabtagene vicleucel)\", \"BMS's Breyanzi\", \"Gilead's Tecartus\", \"JNJ/Janssen's cilta-cel CARTITUDE\", \"Kite/Gilead's Yescarta\", \"Novartis' Kymriah\"]\n",
      "Extraction: ['Abecma ( BMY / BLUE )', \"BMS'/Blue Bird's Abecma ( idecabtagene vicleucel )\", \"BMS's Breyanzi\", 'Breyanzi ( BMY )', \"Gilead's Tecartus\", \"JNJ / Janssen's cilta - cel CARTITUDE data\", \"Kite / Gilead's Yescarta\", \"Novartis'Kymriah\", 'T ecartus ( GILD )', 'Y escarta ( Kite / GILD )']\n",
      "Recall: 1.0; Precision: 0.6916666666666667\n",
      "-----------------------------------------\n",
      "3287704\n",
      "Ground Truth: ['SWYFT message transfer', 'wire transfer']\n",
      "Extraction: ['30k ft view', 'ACH', 'Paypal', 'SWYFT message transfer', 'Stripe', 'Visa / Mastercard', 'credit / debt card', 'wire transfer']\n",
      "Recall: 1.0; Precision: 0.25\n",
      "-----------------------------------------\n",
      "3098871\n",
      "Ground Truth: ['Analytics/decision support services/enterprise data warehouse', 'Claims Processing', 'Financial Management', 'Medical Management', 'Member Services', 'Pharmacy Benefits Management', 'Plan Management', 'Provider Management', 'System Integration', 'Third Party Liability']\n",
      "Extraction: ['Analytics  / Decision Support Services / Enterprise Data Warehouse', 'Claims Processing', 'Financial Management', 'Medical Management ( care management )', 'Member Services', 'Pharmacy Benefits Management', 'Plan Management', 'Provider Management', 'System Integration', 'Third Party Liability', 'analytics', 'decision support services', 'enterprise data warehouse', 'medical management', 'plan management system integration']\n",
      "Recall: 0.9714285714285715; Precision: 0.8365079365079365\n",
      "-----------------------------------------\n",
      "3172743\n",
      "Ground Truth: ['Anvil International', 'Energy Sales', 'FPPI', 'Grinnell', 'Smith-Cooper']\n",
      "Extraction: ['Anvil international', 'Energy Sales', 'FPPI', 'Grinnell', 'Smith - Cooper']\n",
      "Recall: 0.9; Precision: 0.9\n",
      "-----------------------------------------\n",
      "3695944\n",
      "Ground Truth: ['BEW', 'CABSEAL', 'DAFA', 'Eurofoam', 'Intertape polymer group', 'NMC', 'Rectical', 'Special-Plast AB', 'Trelleborg', 'Zotefoams']\n",
      "Extraction: ['BEW', 'CABSEAL', 'DAFA', 'Eurofoam', 'Intertape polymer group', 'NMC', 'Rectical', 'Special - Plast AB', 'Trelleborg', 'Zotefoams']\n",
      "Recall: 1.0; Precision: 1.0\n",
      "-----------------------------------------\n",
      "3456215\n",
      "Ground Truth: ['Blue Jeans', 'BlueJeans', 'GoToMeeting', 'LifeSize']\n",
      "Extraction: ['BlueJeans', 'GoToMeeting', 'Lifesize', 'Zoom viderom']\n",
      "Recall: 0.75; Precision: 0.75\n",
      "-----------------------------------------\n",
      "3522021\n",
      "Ground Truth: ['Square', 'Toast Inc']\n",
      "Extraction: ['Square', 'Toast Inc']\n",
      "Recall: 1.0; Precision: 1.0\n",
      "-----------------------------------------\n",
      "3419534\n",
      "Ground Truth: ['Alto IRA', 'Broad Financial', 'Rocketdollar', 'Wealthflex']\n",
      "Extraction: ['Alto IRA', 'Broad Financial', 'Rocketdollar', 'Wealthflex']\n",
      "Recall: 1.0; Precision: 1.0\n",
      "-----------------------------------------\n",
      "3677318\n",
      "Ground Truth: ['Aiven.IO', 'Apache Kafka', 'Confluence', 'Influx (Time Series)', 'Oracle MySQL Database Service', 'Redis Labs']\n",
      "Extraction: ['Aiven.io', 'Apache Kafka', 'Confluence', 'Influx ( time series )', 'Oracle MySQL Database Service', 'Redis Labs']\n",
      "Recall: 0.9444444444444443; Precision: 0.9444444444444445\n",
      "-----------------------------------------\n",
      "3302761\n",
      "Ground Truth: ['Dell Technologies (RSA Archer)', 'IBM (OpenPages)', 'Lockpath (Keylight)', 'MetricStream', 'Riskonnect', 'SAI Global', 'ServiceNow GRC']\n",
      "Extraction: ['Dell Technologies ( RSA Archer )', 'IBM ( OpenPages )', 'Lockpath ( Keylight )', 'MetricStream', 'Riskonnect', 'SAI Global', 'ServiceNow GRC']\n",
      "Recall: 0.9285714285714286; Precision: 0.9285714285714286\n",
      "-----------------------------------------\n",
      "3590387\n",
      "Ground Truth: ['Flanders', 'IPS', 'ShermCo', 'TAW']\n",
      "Extraction: []\n",
      "Recall: 0.0; Precision: 0.0\n",
      "-----------------------------------------\n",
      "3171541\n",
      "Ground Truth: ['Hobart', 'Smart Care Equipment Solutions', 'Tech24']\n",
      "Extraction: ['Hobart', 'Smart Care Equipment Solutions', 'Tech24']\n",
      "Recall: 1.0; Precision: 1.0\n",
      "-----------------------------------------\n",
      "3381019\n",
      "Ground Truth: ['Cloud Hosting', 'Compliance', 'Patient Assessments']\n",
      "Extraction: ['Citrix', 'Cloud Hosting', 'DAS HEALTH', 'MSP', 'TSI Healthcare', 'VOW ( virtual office ware ) VMware \\t \\n  Veeam \\t \\n  World Wide Technology \\t \\n  ePlus \\t \\n  Waystar * \\t \\n  Emdeon', 'compliance', 'patient assessments', 'revenue cycle management']\n",
      "Recall: 1.0; Precision: 0.3333333333333333\n",
      "-----------------------------------------\n",
      "3581899\n",
      "Ground Truth: ['ADARA', 'STR', 'Sojern', 'TravelAudience', 'TravelClick (Amadeus)', 'business and pricing models', 'competitive differentiation', 'other customer insight/perspectives', 'strengths and weaknesses of various platforms', 'vertical focuses']\n",
      "Extraction: ['ADARA', 'STR', 'Sojern', 'TravelAudience', 'TravelClick ( Amadeus )']\n",
      "Recall: 0.45; Precision: 0.9\n",
      "-----------------------------------------\n",
      "3484361\n",
      "Ground Truth: ['Boost', 'EIS Group', 'Majesco']\n",
      "Extraction: ['Boost', 'EIS Group', 'Majesco']\n",
      "Recall: 1.0; Precision: 1.0\n",
      "-----------------------------------------\n",
      "3161107\n",
      "Ground Truth: ['Precision Medicine Group']\n",
      "Extraction: ['Precision Medicine Group', 'Precision for Medicine', 'Precision for Value']\n",
      "Recall: 1.0; Precision: 0.6666666666666666\n",
      "-----------------------------------------\n",
      "3585703\n",
      "Ground Truth: ['Implementation process', 'Sales process']\n",
      "Extraction: ['implementation', 'implementation process', 'selection']\n",
      "Recall: 0.75; Precision: 0.6666666666666666\n",
      "-----------------------------------------\n",
      "3266099\n",
      "Ground Truth: ['CATO', 'Factory', 'Namsa', 'Pharm-Olam', 'Premier Research']\n",
      "Extraction: ['CATO', 'Factory', 'NAMSA', 'Pharm - Olam', 'Premier Research']\n",
      "Recall: 1.0; Precision: 1.0\n",
      "-----------------------------------------\n",
      "3672522\n",
      "Ground Truth: ['France']\n",
      "Extraction: ['Europe', 'France']\n",
      "Recall: 1.0; Precision: 0.5\n",
      "-----------------------------------------\n",
      "3071680\n",
      "Ground Truth: ['Davis Vision', 'Eyemed', 'Spectera', 'Superior Vision', 'VSP', 'Versant Health']\n",
      "Extraction: ['Eyemed', 'Spectera', 'VSP', 'Versant', 'Versant Health ( Davis Vision, Superior Vision )']\n",
      "Recall: 1.0; Precision: 0.8800000000000001\n",
      "-----------------------------------------\n",
      "3500749\n",
      "Ground Truth: ['CDK Global', 'SmartEquip', 'Snap-On']\n",
      "Extraction: ['CDK Global', 'SmartEquip', 'Snap - On']\n",
      "Recall: 1.0; Precision: 1.0\n",
      "-----------------------------------------\n",
      "3164978\n",
      "Ground Truth: ['Identity resolution']\n",
      "Extraction: ['Connected TV', 'DSPs', 'Identity Resolution', 'SSPs']\n",
      "Recall: 1.0; Precision: 0.25\n",
      "-----------------------------------------\n"
     ]
    }
   ],
   "source": [
    "display_sample = np.random.choice(list(eval_label.keys()), size = 30)\n",
    "\n",
    "for i, k in enumerate(display_sample):\n",
    "    p = predictions.get(k)\n",
    "    l = eval_label[k]\n",
    "    R, P = eval_score(l, p)\n",
    "\n",
    "    print(k)\n",
    "    print(f'Ground Truth: {l}')\n",
    "    print(f'Extraction: {p}')\n",
    "    print(f'Recall: {R}; Precision: {P}')\n",
    "    print('-----------------------------------------')"
   ]
  },
  {
   "cell_type": "code",
   "execution_count": 6,
   "id": "74b98f29",
   "metadata": {},
   "outputs": [],
   "source": [
    "# model = relation_model().to(device)\n",
    "# model.load_state_dict(torch.load(f'{output_dir}/{model_type}_0.pt'))\n",
    "# model = model.eval()    "
   ]
  }
 ],
 "metadata": {
  "kernelspec": {
   "display_name": "Python 3",
   "language": "python",
   "name": "python3"
  },
  "language_info": {
   "codemirror_mode": {
    "name": "ipython",
    "version": 3
   },
   "file_extension": ".py",
   "mimetype": "text/x-python",
   "name": "python",
   "nbconvert_exporter": "python",
   "pygments_lexer": "ipython3",
   "version": "3.9.5"
  }
 },
 "nbformat": 4,
 "nbformat_minor": 5
}
