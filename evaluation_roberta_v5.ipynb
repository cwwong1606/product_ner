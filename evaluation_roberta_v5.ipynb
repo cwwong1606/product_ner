{
 "cells": [
  {
   "cell_type": "code",
   "execution_count": 1,
   "id": "87f0398e",
   "metadata": {},
   "outputs": [],
   "source": [
    "import pickle\n",
    "\n",
    "global eval_label\n",
    "with open('./test_label.pkl', 'rb') as f:\n",
    "    eval_label = pickle.load(f)"
   ]
  },
  {
   "cell_type": "code",
   "execution_count": 2,
   "id": "0854d7eb",
   "metadata": {},
   "outputs": [
    {
     "name": "stderr",
     "output_type": "stream",
     "text": [
      "Some weights of the model checkpoint at roberta-large were not used when initializing RobertaModel: ['lm_head.layer_norm.weight', 'lm_head.dense.bias', 'lm_head.bias', 'lm_head.decoder.weight', 'lm_head.dense.weight', 'lm_head.layer_norm.bias']\n",
      "- This IS expected if you are initializing RobertaModel from the checkpoint of a model trained on another task or with another architecture (e.g. initializing a BertForSequenceClassification model from a BertForPreTraining model).\n",
      "- This IS NOT expected if you are initializing RobertaModel from the checkpoint of a model that you expect to be exactly identical (initializing a BertForSequenceClassification model from a BertForSequenceClassification model).\n"
     ]
    },
    {
     "data": {
      "application/vnd.jupyter.widget-view+json": {
       "model_id": "0df0daef536f4f3595309da3f82d542a",
       "version_major": 2,
       "version_minor": 0
      },
      "text/plain": [
       "  0%|          | 0/7652 [00:00<?, ?it/s]"
      ]
     },
     "metadata": {},
     "output_type": "display_data"
    },
    {
     "name": "stdout",
     "output_type": "stream",
     "text": [
      "7652 7652\n",
      "All predicted: 1.0\n"
     ]
    }
   ],
   "source": [
    "from inference_roberta_v5 import *\n",
    "tmp_preds = inference([0.44, 0.44], eval_label)\n",
    "print(len(tmp_preds), len(eval_label))\n",
    "print(f'All predicted: {np.isin(tmp_preds.keys(), eval_label.keys()).mean()}')\n",
    "\n",
    "predictions = {}\n",
    "for k,v in eval_label.items():\n",
    "    predictions[k] = tmp_preds[k]"
   ]
  },
  {
   "cell_type": "code",
   "execution_count": 6,
   "id": "ddd80663",
   "metadata": {},
   "outputs": [],
   "source": [
    "from nltk.stem.porter import *\n",
    "from rouge import Rouge \n",
    "from tqdm.auto import tqdm\n",
    "import numpy as np\n",
    "\n",
    "rouge = Rouge()\n",
    "stemmer = PorterStemmer()\n",
    "\n",
    "def eval_score(reference, hypothesis):\n",
    "\n",
    "    stem_h = [stemmer.stem(re.sub(r'[^\\w\\s]',' ',x)) for x in hypothesis]\n",
    "    stem_h = list(set(stem_h))\n",
    "    stem_r = [stemmer.stem(re.sub(r'[^\\w\\s]',' ',x)) for x in reference] \n",
    "    \n",
    "    recall = []\n",
    "    precision = []\n",
    "    \n",
    "    for h in stem_h:\n",
    "        precision.append(max([rouge.get_scores(h, r)[0]['rouge-l']['p'] for r in stem_r]))\n",
    "        \n",
    "    for r in stem_r:\n",
    "        if len(stem_h) > 0:\n",
    "            recall.append(max([rouge.get_scores(h, r)[0]['rouge-l']['r'] for h in stem_h]))\n",
    "        else:\n",
    "            recall.append(0)\n",
    "            \n",
    "    recall = sum(recall)/len(reference)\n",
    "    precision = sum(precision)/(len(hypothesis) if len(hypothesis) > 0 else 1e-8)\n",
    "            \n",
    "    return recall, precision\n",
    "\n",
    "def run_eval(predictions):\n",
    "    scores = []\n",
    "    for k,v in tqdm(eval_label.items()):\n",
    "\n",
    "        p = predictions.get(k)\n",
    "\n",
    "        if p is not None:\n",
    "            recall, precision = eval_score(v, p)\n",
    "        else:\n",
    "            recall, precision = 0, 0\n",
    "        scores.append([recall, precision])\n",
    "        \n",
    "    scores = np.mean(np.array(scores), 0).tolist()\n",
    "    return {'Recall': scores[0], 'Precision': scores[1]}"
   ]
  },
  {
   "cell_type": "code",
   "execution_count": 7,
   "id": "e2afa8b9",
   "metadata": {},
   "outputs": [
    {
     "data": {
      "application/vnd.jupyter.widget-view+json": {
       "model_id": "7833074d8d92460aad019c92b7e26680",
       "version_major": 2,
       "version_minor": 0
      },
      "text/plain": [
       "  0%|          | 0/7652 [00:00<?, ?it/s]"
      ]
     },
     "metadata": {},
     "output_type": "display_data"
    },
    {
     "name": "stdout",
     "output_type": "stream",
     "text": [
      "{'Recall': 0.8695231415823662, 'Precision': 0.8126418481996653, 'F1': 0.8401207932872664}\n"
     ]
    }
   ],
   "source": [
    "results = run_eval(predictions)\n",
    "results['F1'] = (2*results['Recall']*results['Precision'])/(results['Recall'] + results['Precision'])\n",
    "print(results)"
   ]
  },
  {
   "cell_type": "code",
   "execution_count": 8,
   "id": "57247cba",
   "metadata": {
    "scrolled": false
   },
   "outputs": [
    {
     "name": "stdout",
     "output_type": "stream",
     "text": [
      "3577164\n",
      "Ground Truth: ['Agamon', 'Nuance', 'Radloop', 'Royal', 'Within Health']\n",
      "Extraction: ['3M*M Modal', 'Agamon', 'Nuance', 'Radloop', 'Royal']\n",
      "Recall: 0.8; Precision: 0.8\n",
      "-----------------------------------------\n",
      "3163788\n",
      "Ground Truth: ['Oracle Cloud', 'Oracle EBS', 'Oracle PeopleSoft']\n",
      "Extraction: ['Oracle Cloud', 'Oracle EBS', 'Oracle PeopleSoft']\n",
      "Recall: 1.0; Precision: 1.0\n",
      "-----------------------------------------\n",
      "3764125\n",
      "Ground Truth: ['Rescale']\n",
      "Extraction: ['Rescale']\n",
      "Recall: 1.0; Precision: 1.0\n",
      "-----------------------------------------\n",
      "3519355\n",
      "Ground Truth: ['Paack']\n",
      "Extraction: ['Paack']\n",
      "Recall: 1.0; Precision: 1.0\n",
      "-----------------------------------------\n",
      "3475426\n",
      "Ground Truth: ['ClickSoftware', 'Clicksoftware', 'Kronos', 'ServiceMax', 'Servicemax', 'Skedulo']\n",
      "Extraction: ['Clicksoftware', 'Kronos', 'Servicemax', 'Skedulo']\n",
      "Recall: 1.0; Precision: 1.0\n",
      "-----------------------------------------\n",
      "3349267\n",
      "Ground Truth: ['Acquiring', 'Digital Wallets', 'Issuing']\n",
      "Extraction: ['Europe', 'US', 'acquiring', 'digital wallets', 'issuing', 'processing']\n",
      "Recall: 1.0; Precision: 0.5\n",
      "-----------------------------------------\n",
      "3175239\n",
      "Ground Truth: ['Advisor Group', 'Focus Financial', 'Hightower', 'LPL Financial']\n",
      "Extraction: ['Advisor Group', 'Focus Financial', 'Hightower', 'LPL Financial']\n",
      "Recall: 1.0; Precision: 1.0\n",
      "-----------------------------------------\n",
      "3535409\n",
      "Ground Truth: ['Arkema', 'Copeland', 'Daikin / Goodman', 'Fujitsu', 'Johnson Controls', 'Resideo']\n",
      "Extraction: ['Arkema', 'Copeland', 'Daikin / Goodman', 'Fujitsu', 'Johnson Controls', 'Resideo']\n",
      "Recall: 1.0; Precision: 1.0\n",
      "-----------------------------------------\n",
      "3708482\n",
      "Ground Truth: ['Google', 'Pinterest']\n",
      "Extraction: ['GOOGL']\n",
      "Recall: 0.5; Precision: 1.0\n",
      "-----------------------------------------\n",
      "3304258\n",
      "Ground Truth: ['Akamai', 'Circl', 'Cloudflare', 'Digital Element', 'F5 Networks', 'Farsight', 'IPdata', 'IPstack', 'Imperva', 'MaxMind', 'NS1', 'Neustar', 'RiskIQ', 'Spamhaus']\n",
      "Extraction: ['Akamai', 'Circl', 'Cloudflare', 'Digital Element', 'F5 Networks', 'IPdata', 'IPstack', 'Imperva', 'MaxMind', 'NS1', 'Neustar', 'Neustar Farsight', 'Neustar Security', 'RiskIQ', 'Spamhaus']\n",
      "Recall: 1.0; Precision: 0.9333333333333333\n",
      "-----------------------------------------\n",
      "3304034\n",
      "Ground Truth: [\"Apple Bee's\", 'Chipotle', \"Church's Chicken\", 'Dairy Queen', 'IHOP', 'Jack In The Box', 'Jersey Mikes', 'Krispy Kreme', 'Panera', 'Red Robin', 'Waffle House', 'Wing Stop']\n",
      "Extraction: ['coffee machines', \"convection oven for X's is $ 15,000 ) \\n  the average life cycle of those pieces of equipment ( e.g. the average 30 lb fryer\", 'convection ovens', \"convection ovens, etc. does each location need? \\n  1. \\t This may vary by type of location, so needs may change based on US location or international location.  Also some chains may have multiple kitchen formats depending on if it's full service or a to - go version \\n  2. \\t What is the average price of those pieces of equipment ( e.g. average price of a convection oven for X's is $ 15,000 ) \\n  3. \\t What is the average life cycle of those pieces of equipment ( e.g. the average 30 lb fryer lasts 10 years ) \\n  Some additional notes : \\n  1. \\t Geography of interest :  Global ( e.g. needs by restaurant globally ) \\n  2. \\t Timeline : Speaking to someone this week would be ideal \\n  3. \\t EM / Partner : Andrea Queirolo One of our clients, a project team at a professional services firm, would like to speak  experts who have experience working for a distributor in the restaurant food service equipment industry. Topics of interest include : what all of the pieces of food service equipment are that restaurants would need to have in their typical locations ( e.g. how many 30 lb fryers\", 'reach - in refrigerators', 'soda dispensers']\n",
      "Recall: 0.06944444444444443; Precision: 0.06644191599943812\n",
      "-----------------------------------------\n",
      "3396587\n",
      "Ground Truth: ['Infosys', 'Tata']\n",
      "Extraction: ['Infosys', 'TCS', 'Tata Consultancy Services']\n",
      "Recall: 1.0; Precision: 0.4444444444444444\n",
      "-----------------------------------------\n",
      "3753595\n",
      "Ground Truth: ['CoinList', 'Poolz', 'TokenSoft']\n",
      "Extraction: ['CoinList', 'Syndicate Protocol']\n",
      "Recall: 0.3333333333333333; Precision: 0.5\n",
      "-----------------------------------------\n",
      "3708734\n",
      "Ground Truth: ['Equifax', 'Experian', 'TransUnion']\n",
      "Extraction: ['Equifax', 'Experian', 'TransUnion']\n",
      "Recall: 1.0; Precision: 1.0\n",
      "-----------------------------------------\n",
      "3167205\n",
      "Ground Truth: [\"Captain D's\", \"Church's Chicken\", \"Long John Silver's Restaurants\", \"Popeye's\", 'Red Lobster', 'Skippers']\n",
      "Extraction: [\"Captain D's\", \"Church's Chicken\", 'KFC', \"Long John Silver's Restaurants\", \"Popeye's\", 'Red Lobster', 'Skippers', 'TacoBell', 'Yum! Brands']\n",
      "Recall: 1.0; Precision: 0.6666666666666666\n",
      "-----------------------------------------\n",
      "3696109\n",
      "Ground Truth: ['Key Players', 'Market size']\n",
      "Extraction: ['key players', 'trends']\n",
      "Recall: 0.5; Precision: 0.5\n",
      "-----------------------------------------\n",
      "3608305\n",
      "Ground Truth: ['Vistaprint']\n",
      "Extraction: ['4imprint', 'CustomInk', 'GotPrint', 'Moo', 'Packlane', 'StickerMule', 'Vistaprint']\n",
      "Recall: 1.0; Precision: 0.14285714285714285\n",
      "-----------------------------------------\n",
      "3463821\n",
      "Ground Truth: ['Culture Amp', 'Lattice']\n",
      "Extraction: ['Culture Amp', 'Lattice']\n",
      "Recall: 1.0; Precision: 1.0\n",
      "-----------------------------------------\n",
      "3743092\n",
      "Ground Truth: ['Alert Communications', 'LEX Reception', 'Nexa (Formerly Answer1)', 'Ruby Receptionists']\n",
      "Extraction: ['Alert Communications', 'Alert Communications ( Acquired by Nexa )', 'LEX Reception', 'Moneypenny', 'Nexa ( Formerly Answer1 )', 'Ruby Receptionist', 'Ruby Receptionists']\n",
      "Recall: 1.0; Precision: 0.6\n",
      "-----------------------------------------\n",
      "3763777\n",
      "Ground Truth: ['Adyen', 'Checkout.com', 'Clip.mx', 'Kushki', 'Stripe']\n",
      "Extraction: ['Adyen', 'Checkout.com', 'Clip.mx', 'Kushk', 'Kushki', 'Mercado Libre', 'Stripe']\n",
      "Recall: 1.0; Precision: 0.7142857142857143\n",
      "-----------------------------------------\n",
      "3672984\n",
      "Ground Truth: ['Dovetail', 'Maze', 'Street', 'UserLeap', 'UserTesting / UserZoom', 'Usertesting / UserZoom']\n",
      "Extraction: ['Dovetail', 'Maze', 'Street', 'UserLeap', 'Usertesting / UserZoom']\n",
      "Recall: 1.0; Precision: 1.0\n",
      "-----------------------------------------\n",
      "3430108\n",
      "Ground Truth: ['Visual Comfort']\n",
      "Extraction: ['Visual Comfort']\n",
      "Recall: 1.0; Precision: 1.0\n",
      "-----------------------------------------\n",
      "3760037\n",
      "Ground Truth: ['AllScripts', 'Epic', 'Intrado', 'Luma Health', 'NextGen', 'Relatient', 'Solutionreach', 'Well Health']\n",
      "Extraction: ['AllScripts', 'Cerner', 'Epic', 'Healthcare', 'Intrado', 'Luma Health', 'NextGen', 'Relatient', 'Solutionreach', 'Well Health']\n",
      "Recall: 1.0; Precision: 0.8\n",
      "-----------------------------------------\n",
      "3676881\n",
      "Ground Truth: ['Customer Requirements', 'Differentiation between event management software players', 'Emerging Trends', 'How the software providers grow', 'The competitive environment']\n",
      "Extraction: ['Cvent', 'Eventbrite', 'Hopin']\n",
      "Recall: 0.0; Precision: 0.0\n",
      "-----------------------------------------\n",
      "3554694\n",
      "Ground Truth: ['Jefferson Surgery Center', 'Summit Surgical Center', 'SurgiCore Surgical Centers', 'Surgical Care Affiliates', 'United Surgical Partners']\n",
      "Extraction: ['Jefferson Surgery Center', 'Summit Surgical Center', 'SurgiCore Surgical Centers', 'Surgical Care Affiliates', 'United Surgical Partners']\n",
      "Recall: 1.0; Precision: 1.0\n",
      "-----------------------------------------\n",
      "3466345\n",
      "Ground Truth: ['Leon', 'Merlot', 'MySky', 'NavBlue', 'Portside', 'Roster Buster']\n",
      "Extraction: ['Leon', 'Merlot', 'MySky', 'NavBlue', 'Portside', 'Roster Buster']\n",
      "Recall: 1.0; Precision: 1.0\n",
      "-----------------------------------------\n",
      "3718530\n",
      "Ground Truth: ['Javara']\n",
      "Extraction: ['Javara']\n",
      "Recall: 1.0; Precision: 1.0\n",
      "-----------------------------------------\n",
      "3502073\n",
      "Ground Truth: ['Benevity', 'Blackbaud YourCause', 'CauseCast', 'CyberGrants', 'SmartSimple']\n",
      "Extraction: ['Benevity', 'Blackbaud YourCause', 'CauseCast', 'CyberGrants', 'SmartSimple']\n",
      "Recall: 1.0; Precision: 1.0\n",
      "-----------------------------------------\n",
      "3415074\n",
      "Ground Truth: ['American Residential Services', 'Wrench Group']\n",
      "Extraction: ['American Residential Services(ARS )', 'EAST COAST MECHANICAL HVAC', 'East Coast Mechanical', 'Wrench Group']\n",
      "Recall: 0.8333333333333333; Precision: 0.375\n",
      "-----------------------------------------\n",
      "3752338\n",
      "Ground Truth: ['EAB', 'Pledgemine']\n",
      "Extraction: ['EAB', 'Pledgemine', 'RNL']\n",
      "Recall: 1.0; Precision: 0.6666666666666666\n",
      "-----------------------------------------\n"
     ]
    }
   ],
   "source": [
    "display_sample = np.random.choice(list(eval_label.keys()), size = 30)\n",
    "\n",
    "for i, k in enumerate(display_sample):\n",
    "    p = predictions.get(k)\n",
    "    l = eval_label[k]\n",
    "    R, P = eval_score(l, p)\n",
    "    print(k)\n",
    "    print(f'Ground Truth: {l}')\n",
    "    print(f'Extraction: {p}')\n",
    "    print(f'Recall: {R}; Precision: {P}')\n",
    "    print('-----------------------------------------')"
   ]
  }
 ],
 "metadata": {
  "kernelspec": {
   "display_name": "Python 3",
   "language": "python",
   "name": "python3"
  },
  "language_info": {
   "codemirror_mode": {
    "name": "ipython",
    "version": 3
   },
   "file_extension": ".py",
   "mimetype": "text/x-python",
   "name": "python",
   "nbconvert_exporter": "python",
   "pygments_lexer": "ipython3",
   "version": "3.9.5"
  }
 },
 "nbformat": 4,
 "nbformat_minor": 5
}
